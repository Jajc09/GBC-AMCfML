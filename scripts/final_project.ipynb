{
 "cells": [
  {
   "cell_type": "markdown",
   "metadata": {},
   "source": [
    "> # Packages"
   ]
  },
  {
   "cell_type": "code",
   "execution_count": null,
   "metadata": {},
   "outputs": [],
   "source": [
    "import json \n",
    "import numpy as np\n",
    "import pandas as pd"
   ]
  },
  {
   "cell_type": "code",
   "execution_count": null,
   "metadata": {},
   "outputs": [],
   "source": [
    "# Opening JSON file \n",
    "f = open('/content/mmimdb/split.json') \n",
    "data = json.load(f) \n",
    "f.close() \n",
    "devel=np.array(data['dev'])\n",
    "test=np.array(data['test']) \n",
    "train=np.array(data['train'])"
   ]
  },
  {
   "cell_type": "code",
   "execution_count": null,
   "metadata": {},
   "outputs": [],
   "source": [
    "df_train=pd.DataFrame(columns=['label','File_name','Plot','label_encode'],index=train)\n",
    "for i in train:\n",
    "  f = open('/content/mmimdb/dataset/'+i+'.json') \n",
    "  df_train.File_name[i]=i+'.jpeg'\n",
    "  data2 = json.load(f)\n",
    "  f.close()  \n",
    "  for u in [ 'News','Reality-TV', 'Talk-Show','Adult']:\n",
    "    if u in data2['genres']:\n",
    "      data2['genres'].remove(u)\n",
    "  df_train.label[i]=data2['genres']\n",
    "  df_train.Plot[i]=data2['plot']\n",
    "\n",
    "df_val=pd.DataFrame(columns=['label','File_name','Plot','label_encode'],index=devel)\n",
    "for i in devel:\n",
    "  f = open('/content/mmimdb/dataset/'+i+'.json') \n",
    "  df_val.File_name[i]=i+'.jpeg'\n",
    "  data2 = json.load(f)\n",
    "  f.close()\n",
    "  for u in [ 'News','Reality-TV', 'Talk-Show','Adult']:\n",
    "    if u in data2['genres']:\n",
    "      data2['genres'].remove(u)\n",
    "  df_val.label[i]=data2['genres']\n",
    "  df_val.Plot[i]=data2['plot']\n",
    "\n",
    "df_test=pd.DataFrame(columns=['label','File_name','Plot','label_encode'],index=test)\n",
    "for i in test:\n",
    "  f = open('/content/mmimdb/dataset/'+i+'.json') \n",
    "  df_test.File_name[i]=i+'.jpeg'\n",
    "  data2 = json.load(f)\n",
    "  f.close()\n",
    "  for u in [ 'News','Reality-TV', 'Talk-Show','Adult']:\n",
    "    if u in data2['genres']:\n",
    "      data2['genres'].remove(u)\n",
    "  df_test.label[i]=data2['genres']\n",
    "  df_test.Plot[i]=data2['plot']"
   ]
  }
 ],
 "metadata": {
  "interpreter": {
   "hash": "37fa8c9ee2ed249b365c3625feda63450acb1e473886e97b0f62994f987958a6"
  },
  "kernelspec": {
   "display_name": "Python 3.9.7 64-bit ('stats': conda)",
   "language": "python",
   "name": "python3"
  },
  "language_info": {
   "name": "python",
   "version": "3.9.7"
  },
  "orig_nbformat": 4
 },
 "nbformat": 4,
 "nbformat_minor": 2
}
