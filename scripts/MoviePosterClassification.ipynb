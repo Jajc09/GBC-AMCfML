{
 "cells": [
  {
   "cell_type": "markdown",
   "id": "8f9bcf56",
   "metadata": {},
   "source": [
    "<h4>Import Library"
   ]
  },
  {
   "cell_type": "code",
   "execution_count": 1,
   "id": "9f8fa9e0",
   "metadata": {},
   "outputs": [],
   "source": [
    "import tensorflow as tf\n",
    "import os\n",
    "import json \n",
    "import numpy as np\n",
    "import pandas as pd\n",
    "from tensorflow import keras \n",
    "from tensorflow.keras.preprocessing.image import ImageDataGenerator\n",
    "from sklearn.preprocessing import MultiLabelBinarizer\n",
    "from PIL import Image\n",
    "Image.MAX_IMAGE_PIXELS = None"
   ]
  },
  {
   "cell_type": "markdown",
   "id": "55cb39b5",
   "metadata": {},
   "source": [
    "<h4>Load and Preprocess Data"
   ]
  },
  {
   "cell_type": "code",
   "execution_count": 2,
   "id": "2ed40f13",
   "metadata": {},
   "outputs": [],
   "source": [
    "with open('mmimdb/split.json') as f:\n",
    "    data = json.load(f) \n",
    "\n",
    "validate = np.array(data['dev'])\n",
    "validate = validate.astype(str)\n",
    "test = np.array(data['test']) \n",
    "test = test.astype(str)\n",
    "train = np.array(data['train'])\n",
    "train = train.astype(str)"
   ]
  },
  {
   "cell_type": "code",
   "execution_count": 3,
   "id": "146126ef",
   "metadata": {},
   "outputs": [],
   "source": [
    "def load_movie_info(df, i):\n",
    "    path = 'mmimdb/dataset/' + i + '.json'\n",
    "    if not os.path.exists(path):\n",
    "        print(f\"Warning: {path} file not found.\")\n",
    "        return\n",
    "    with open('mmimdb/dataset/' + i + '.json') as f:\n",
    "        movie_data = json.load(f)\n",
    "        df.loc[i, \"File_name\"] = i + '.jpeg'\n",
    "        for genre in ['News', 'Reality-TV', 'Talk-Show', 'Adult']:\n",
    "            if genre in movie_data['genres']:\n",
    "               movie_data['genres'].remove(genre)\n",
    "        df.loc[i, \"label\"] = movie_data['genres']\n",
    "        df.loc[i, \"Plot\"] = movie_data['plot']"
   ]
  },
  {
   "cell_type": "code",
   "execution_count": 4,
   "id": "521e61db",
   "metadata": {},
   "outputs": [],
   "source": [
    "df_train = pd.DataFrame(columns=['label','File_name','Plot','label_encode'], index=train)\n",
    "for i in train:\n",
    "    load_movie_info(df_train, i)\n",
    "\n",
    "df_val = pd.DataFrame(columns=['label','File_name','Plot','label_encode'], index=validate)\n",
    "for i in validate:\n",
    "    load_movie_info(df_val, i)\n",
    "\n",
    "df_test = pd.DataFrame(columns=['label','File_name','Plot','label_encode'], index=test)\n",
    "for i in test:\n",
    "    load_movie_info(df_test, i)"
   ]
  },
  {
   "cell_type": "code",
   "execution_count": 5,
   "id": "3001a61f",
   "metadata": {},
   "outputs": [
    {
     "data": {
      "text/html": [
       "<div>\n",
       "<style scoped>\n",
       "    .dataframe tbody tr th:only-of-type {\n",
       "        vertical-align: middle;\n",
       "    }\n",
       "\n",
       "    .dataframe tbody tr th {\n",
       "        vertical-align: top;\n",
       "    }\n",
       "\n",
       "    .dataframe thead th {\n",
       "        text-align: right;\n",
       "    }\n",
       "</style>\n",
       "<table border=\"1\" class=\"dataframe\">\n",
       "  <thead>\n",
       "    <tr style=\"text-align: right;\">\n",
       "      <th></th>\n",
       "      <th>label</th>\n",
       "      <th>File_name</th>\n",
       "      <th>Plot</th>\n",
       "      <th>label_encode</th>\n",
       "    </tr>\n",
       "  </thead>\n",
       "  <tbody>\n",
       "    <tr>\n",
       "      <th>0106714</th>\n",
       "      <td>[Crime, Drama, Thriller]</td>\n",
       "      <td>0106714.jpeg</td>\n",
       "      <td>[Mild mannered businessman Anthony Wongs life ...</td>\n",
       "      <td>NaN</td>\n",
       "    </tr>\n",
       "    <tr>\n",
       "      <th>0204504</th>\n",
       "      <td>[Action, Crime, Drama, Thriller]</td>\n",
       "      <td>0204504.jpeg</td>\n",
       "      <td>[Tough girl biker Ako (pop singer Akiko Wada) ...</td>\n",
       "      <td>NaN</td>\n",
       "    </tr>\n",
       "    <tr>\n",
       "      <th>1865357</th>\n",
       "      <td>[Drama]</td>\n",
       "      <td>1865357.jpeg</td>\n",
       "      <td>[Roque starts University in Buenos Aires but h...</td>\n",
       "      <td>NaN</td>\n",
       "    </tr>\n",
       "    <tr>\n",
       "      <th>0033804</th>\n",
       "      <td>[Comedy, Romance]</td>\n",
       "      <td>0033804.jpeg</td>\n",
       "      <td>[Returning from a year up the Amazon studying ...</td>\n",
       "      <td>NaN</td>\n",
       "    </tr>\n",
       "    <tr>\n",
       "      <th>0066423</th>\n",
       "      <td>[Comedy]</td>\n",
       "      <td>0066423.jpeg</td>\n",
       "      <td>[Politician get hitch hikers on road and in on...</td>\n",
       "      <td>NaN</td>\n",
       "    </tr>\n",
       "  </tbody>\n",
       "</table>\n",
       "</div>"
      ],
      "text/plain": [
       "                                    label     File_name  \\\n",
       "0106714          [Crime, Drama, Thriller]  0106714.jpeg   \n",
       "0204504  [Action, Crime, Drama, Thriller]  0204504.jpeg   \n",
       "1865357                           [Drama]  1865357.jpeg   \n",
       "0033804                 [Comedy, Romance]  0033804.jpeg   \n",
       "0066423                          [Comedy]  0066423.jpeg   \n",
       "\n",
       "                                                      Plot label_encode  \n",
       "0106714  [Mild mannered businessman Anthony Wongs life ...          NaN  \n",
       "0204504  [Tough girl biker Ako (pop singer Akiko Wada) ...          NaN  \n",
       "1865357  [Roque starts University in Buenos Aires but h...          NaN  \n",
       "0033804  [Returning from a year up the Amazon studying ...          NaN  \n",
       "0066423  [Politician get hitch hikers on road and in on...          NaN  "
      ]
     },
     "execution_count": 5,
     "metadata": {},
     "output_type": "execute_result"
    }
   ],
   "source": [
    "df_train.head()"
   ]
  },
  {
   "cell_type": "code",
   "execution_count": 43,
   "id": "08f66b84",
   "metadata": {},
   "outputs": [],
   "source": [
    "mlb = MultiLabelBinarizer()\n",
    "\n",
    "def encode_movie_label(df, bFit=False):\n",
    "    if bFit:\n",
    "        y_bin = mlb.fit_transform(df['label'])\n",
    "    else:\n",
    "        y_bin = mlb.transform(df['label'])\n",
    "    for i in range(len(y_bin)):\n",
    "        df.iloc[i, 3] = y_bin[i, :]\n",
    "    return y_bin"
   ]
  },
  {
   "cell_type": "code",
   "execution_count": 44,
   "id": "a67d1399",
   "metadata": {},
   "outputs": [],
   "source": [
    "y_train_bin = encode_movie_label(df_train, bFit=True)\n",
    "\n",
    "y_val_bin = encode_movie_label(df_val)\n",
    "\n",
    "y_test_bin = encode_movie_label(df_test)"
   ]
  },
  {
   "cell_type": "code",
   "execution_count": 8,
   "id": "ea7cb020",
   "metadata": {},
   "outputs": [
    {
     "data": {
      "text/html": [
       "<div>\n",
       "<style scoped>\n",
       "    .dataframe tbody tr th:only-of-type {\n",
       "        vertical-align: middle;\n",
       "    }\n",
       "\n",
       "    .dataframe tbody tr th {\n",
       "        vertical-align: top;\n",
       "    }\n",
       "\n",
       "    .dataframe thead th {\n",
       "        text-align: right;\n",
       "    }\n",
       "</style>\n",
       "<table border=\"1\" class=\"dataframe\">\n",
       "  <thead>\n",
       "    <tr style=\"text-align: right;\">\n",
       "      <th></th>\n",
       "      <th>label</th>\n",
       "      <th>File_name</th>\n",
       "      <th>Plot</th>\n",
       "      <th>label_encode</th>\n",
       "    </tr>\n",
       "  </thead>\n",
       "  <tbody>\n",
       "    <tr>\n",
       "      <th>0106714</th>\n",
       "      <td>[Crime, Drama, Thriller]</td>\n",
       "      <td>0106714.jpeg</td>\n",
       "      <td>[Mild mannered businessman Anthony Wongs life ...</td>\n",
       "      <td>[0, 0, 0, 0, 0, 1, 0, 1, 0, 0, 0, 0, 0, 0, 0, ...</td>\n",
       "    </tr>\n",
       "    <tr>\n",
       "      <th>0204504</th>\n",
       "      <td>[Action, Crime, Drama, Thriller]</td>\n",
       "      <td>0204504.jpeg</td>\n",
       "      <td>[Tough girl biker Ako (pop singer Akiko Wada) ...</td>\n",
       "      <td>[1, 0, 0, 0, 0, 1, 0, 1, 0, 0, 0, 0, 0, 0, 0, ...</td>\n",
       "    </tr>\n",
       "    <tr>\n",
       "      <th>1865357</th>\n",
       "      <td>[Drama]</td>\n",
       "      <td>1865357.jpeg</td>\n",
       "      <td>[Roque starts University in Buenos Aires but h...</td>\n",
       "      <td>[0, 0, 0, 0, 0, 0, 0, 1, 0, 0, 0, 0, 0, 0, 0, ...</td>\n",
       "    </tr>\n",
       "    <tr>\n",
       "      <th>0033804</th>\n",
       "      <td>[Comedy, Romance]</td>\n",
       "      <td>0033804.jpeg</td>\n",
       "      <td>[Returning from a year up the Amazon studying ...</td>\n",
       "      <td>[0, 0, 0, 0, 1, 0, 0, 0, 0, 0, 0, 0, 0, 0, 0, ...</td>\n",
       "    </tr>\n",
       "    <tr>\n",
       "      <th>0066423</th>\n",
       "      <td>[Comedy]</td>\n",
       "      <td>0066423.jpeg</td>\n",
       "      <td>[Politician get hitch hikers on road and in on...</td>\n",
       "      <td>[0, 0, 0, 0, 1, 0, 0, 0, 0, 0, 0, 0, 0, 0, 0, ...</td>\n",
       "    </tr>\n",
       "  </tbody>\n",
       "</table>\n",
       "</div>"
      ],
      "text/plain": [
       "                                    label     File_name  \\\n",
       "0106714          [Crime, Drama, Thriller]  0106714.jpeg   \n",
       "0204504  [Action, Crime, Drama, Thriller]  0204504.jpeg   \n",
       "1865357                           [Drama]  1865357.jpeg   \n",
       "0033804                 [Comedy, Romance]  0033804.jpeg   \n",
       "0066423                          [Comedy]  0066423.jpeg   \n",
       "\n",
       "                                                      Plot  \\\n",
       "0106714  [Mild mannered businessman Anthony Wongs life ...   \n",
       "0204504  [Tough girl biker Ako (pop singer Akiko Wada) ...   \n",
       "1865357  [Roque starts University in Buenos Aires but h...   \n",
       "0033804  [Returning from a year up the Amazon studying ...   \n",
       "0066423  [Politician get hitch hikers on road and in on...   \n",
       "\n",
       "                                              label_encode  \n",
       "0106714  [0, 0, 0, 0, 0, 1, 0, 1, 0, 0, 0, 0, 0, 0, 0, ...  \n",
       "0204504  [1, 0, 0, 0, 0, 1, 0, 1, 0, 0, 0, 0, 0, 0, 0, ...  \n",
       "1865357  [0, 0, 0, 0, 0, 0, 0, 1, 0, 0, 0, 0, 0, 0, 0, ...  \n",
       "0033804  [0, 0, 0, 0, 1, 0, 0, 0, 0, 0, 0, 0, 0, 0, 0, ...  \n",
       "0066423  [0, 0, 0, 0, 1, 0, 0, 0, 0, 0, 0, 0, 0, 0, 0, ...  "
      ]
     },
     "execution_count": 8,
     "metadata": {},
     "output_type": "execute_result"
    }
   ],
   "source": [
    "df_train.head()"
   ]
  },
  {
   "cell_type": "markdown",
   "id": "6fdcb84d",
   "metadata": {},
   "source": [
    "<h4>Train Neutral Network"
   ]
  },
  {
   "cell_type": "code",
   "execution_count": 12,
   "id": "5431440b",
   "metadata": {},
   "outputs": [],
   "source": [
    "#set variables\n",
    "img_width, img_height = 224, 224\n",
    "data_dir = 'mmimdb/dataset/'\n",
    "nb_train_samples = len(train)\n",
    "nb_validation_samples = len(validate)\n",
    "epochs = 15\n",
    "batch_size = 12\n",
    "class_weight = {}\n",
    "temp_weight = 1 - (y_train_bin.sum(axis=0) / y_train_bin.sum())\n",
    "for i in range(len(temp_weight)):\n",
    "    class_weight[i] = temp_weight[i]"
   ]
  },
  {
   "cell_type": "code",
   "execution_count": 13,
   "id": "2f236041",
   "metadata": {},
   "outputs": [
    {
     "name": "stdout",
     "output_type": "stream",
     "text": [
      "Found 15552 validated image filenames belonging to 23 classes.\n",
      "Found 2608 validated image filenames belonging to 23 classes.\n",
      "Found 7799 validated image filenames belonging to 23 classes.\n"
     ]
    }
   ],
   "source": [
    "image_data_generator = ImageDataGenerator(validation_split=0, rescale=1. / 255)\n",
    "\n",
    "train_generator = image_data_generator.flow_from_dataframe(\n",
    "    dataframe=df_train,\n",
    "    directory=data_dir,\n",
    "    x_col='File_name',\n",
    "    y_col='label' ,\n",
    "    class_mode='categorical',\n",
    "    target_size=(img_width, img_height ),\n",
    "    batch_size=batch_size,\n",
    "    shuffle=False \n",
    ")\n",
    "\n",
    "validation_generator = image_data_generator.flow_from_dataframe(\n",
    "    dataframe=df_val,\n",
    "    directory=data_dir,\n",
    "    x_col='File_name',\n",
    "    y_col='label',\n",
    "    class_mode='categorical',\n",
    "    target_size=(img_width, img_height),\n",
    "    batch_size=batch_size,\n",
    "    shuffle=False  \n",
    ")\n",
    "\n",
    "test_generator = image_data_generator.flow_from_dataframe(\n",
    "    dataframe=df_test,\n",
    "    directory=data_dir,\n",
    "    x_col='File_name',\n",
    "    y_col='label',\n",
    "    class_mode='categorical',\n",
    "    target_size=(img_width, img_height),\n",
    "    batch_size=batch_size,\n",
    "    shuffle=False  \n",
    ")"
   ]
  },
  {
   "cell_type": "code",
   "execution_count": 14,
   "id": "d57c0728",
   "metadata": {},
   "outputs": [],
   "source": [
    "extractor = keras.applications.MobileNet(weights='imagenet', include_top=False, input_shape=(img_width, img_height, 3))\n",
    "pool = keras.layers.GlobalAveragePooling2D()(extractor.output)\n",
    "dense1 = keras.layers.Dense(32, activation=\"relu\")(pool)\n",
    "drop1 = keras.layers.Dropout(0.2)(dense1)\n",
    "dense2 = keras.layers.Dense(23, activation=\"sigmoid\")(drop1)\n",
    "movie_poster_model = keras.models.Model(inputs=[extractor.input], outputs=[dense2])"
   ]
  },
  {
   "cell_type": "code",
   "execution_count": 16,
   "id": "c746a3b9",
   "metadata": {},
   "outputs": [],
   "source": [
    "for layer in movie_poster_model.layers[-23:]:\n",
    "    layer.trainable = True\n",
    "\n",
    "movie_poster_model.compile(loss=\"binary_crossentropy\", optimizer=keras.optimizers.Adam(learning_rate=1e-5),\n",
    "                           metrics=[tf.keras.metrics.CategoricalAccuracy()])"
   ]
  },
  {
   "cell_type": "code",
   "execution_count": null,
   "id": "2c7b9ac6",
   "metadata": {},
   "outputs": [],
   "source": [
    "movie_poster_model.fit(\n",
    "    train_generator,\n",
    "    steps_per_epoch=nb_train_samples // batch_size,\n",
    "    epochs=epochs,\n",
    "    validation_data=validation_generator,\n",
    "    validation_steps=nb_validation_samples // batch_size,\n",
    "    class_weight=class_weight)"
   ]
  },
  {
   "cell_type": "code",
   "execution_count": null,
   "id": "42b6c3b6",
   "metadata": {},
   "outputs": [],
   "source": [
    "movie_poster_model.save('movie_poster.h5')"
   ]
  },
  {
   "cell_type": "markdown",
   "id": "89839cce",
   "metadata": {},
   "source": [
    "<h4>Evaluate Model"
   ]
  },
  {
   "cell_type": "code",
   "execution_count": 9,
   "id": "82291430",
   "metadata": {},
   "outputs": [],
   "source": [
    "from tensorflow.keras.models import load_model"
   ]
  },
  {
   "cell_type": "code",
   "execution_count": 45,
   "id": "65c2b12e",
   "metadata": {},
   "outputs": [],
   "source": [
    "movie_poster_model = load_model('movie_poster.h5')"
   ]
  },
  {
   "cell_type": "code",
   "execution_count": 46,
   "id": "2d7d57d3",
   "metadata": {},
   "outputs": [],
   "source": [
    "predict = movie_poster_model.predict(test_generator)"
   ]
  },
  {
   "cell_type": "code",
   "execution_count": 62,
   "id": "42f3066c",
   "metadata": {},
   "outputs": [],
   "source": [
    "def binary_prediction(prob, threshold=0.5):\n",
    "    '''\n",
    "    Convert a list-like of category probabilities to binary using certain threshold.\n",
    "    \n",
    "    :param prob: List of probabilities.\n",
    "    :param threshold: Probabilities greater than or equal to threshold is true, otherwise false.\n",
    "    :return List-like of predicted categories.\n",
    "    '''\n",
    "    pred_cat = np.multiply(prob > threshold, 1)\n",
    "    return pred_cat"
   ]
  },
  {
   "cell_type": "code",
   "execution_count": 63,
   "id": "3f9df247",
   "metadata": {},
   "outputs": [],
   "source": [
    "# use threshold of 0.5 to make predictions\n",
    "\n",
    "y_pred = binary_prediction(predict, threshold=0.5)"
   ]
  },
  {
   "cell_type": "code",
   "execution_count": 78,
   "id": "429ea06a",
   "metadata": {},
   "outputs": [],
   "source": [
    "from sklearn.metrics import classification_report\n",
    "from sklearn.metrics import precision_score\n",
    "from sklearn.metrics import recall_score\n",
    "from sklearn.metrics import f1_score\n",
    "from sklearn.metrics import roc_auc_score"
   ]
  },
  {
   "cell_type": "code",
   "execution_count": 50,
   "id": "3e1730ab",
   "metadata": {},
   "outputs": [
    {
     "name": "stdout",
     "output_type": "stream",
     "text": [
      "              precision    recall  f1-score   support\n",
      "\n",
      "      Action       0.50      0.22      0.31      1044\n",
      "   Adventure       0.55      0.01      0.03       821\n",
      "   Animation       1.00      0.06      0.11       306\n",
      "   Biography       0.00      0.00      0.00       411\n",
      "      Comedy       0.67      0.38      0.48      2611\n",
      "       Crime       0.49      0.05      0.08      1163\n",
      " Documentary       0.09      0.00      0.00       629\n",
      "       Drama       0.64      0.70      0.67      4142\n",
      "      Family       0.83      0.17      0.28       518\n",
      "     Fantasy       0.40      0.01      0.01       585\n",
      "   Film-Noir       0.00      0.00      0.00       102\n",
      "     History       0.00      0.00      0.00       345\n",
      "      Horror       0.58      0.14      0.23       825\n",
      "       Music       0.00      0.00      0.00       311\n",
      "     Musical       0.27      0.02      0.03       253\n",
      "     Mystery       0.00      0.00      0.00       617\n",
      "     Romance       0.50      0.12      0.20      1590\n",
      "      Sci-Fi       0.47      0.03      0.05       586\n",
      "       Short       0.00      0.00      0.00       142\n",
      "       Sport       0.00      0.00      0.00       191\n",
      "    Thriller       0.49      0.19      0.27      1567\n",
      "         War       0.00      0.00      0.00       401\n",
      "     Western       0.00      0.00      0.00       210\n",
      "\n",
      "   micro avg       0.61      0.25      0.36     19370\n",
      "   macro avg       0.32      0.09      0.12     19370\n",
      "weighted avg       0.48      0.25      0.29     19370\n",
      " samples avg       0.48      0.31      0.34     19370\n",
      "\n"
     ]
    }
   ],
   "source": [
    "print(classification_report(y_test_bin, y_pred, target_names=mlb.classes_, zero_division=0))"
   ]
  },
  {
   "cell_type": "code",
   "execution_count": 74,
   "id": "b9d5dbff",
   "metadata": {},
   "outputs": [
    {
     "data": {
      "text/plain": [
       "array([0.  , 0.05, 0.1 , 0.15, 0.2 , 0.25, 0.3 , 0.35, 0.4 , 0.45, 0.5 ,\n",
       "       0.55, 0.6 , 0.65, 0.7 , 0.75, 0.8 , 0.85, 0.9 , 0.95, 1.  ])"
      ]
     },
     "execution_count": 74,
     "metadata": {},
     "output_type": "execute_result"
    }
   ],
   "source": [
    "thresholds = np.arange(0.0, 1.0, 0.05)\n",
    "thresholds = np.append(thresholds, 1.0)\n",
    "thresholds"
   ]
  },
  {
   "cell_type": "code",
   "execution_count": 81,
   "id": "6d35717e",
   "metadata": {},
   "outputs": [],
   "source": [
    "f1_scores = [f1_score(y_test_bin, binary_prediction(predict, threshold=x), average='micro', zero_division=0) for x in thresholds]"
   ]
  },
  {
   "cell_type": "code",
   "execution_count": 83,
   "id": "d8aebcae",
   "metadata": {},
   "outputs": [],
   "source": [
    "roc_auc_scores = [roc_auc_score(y_test_bin, binary_prediction(predict, threshold=x), average='micro') for x in thresholds]"
   ]
  },
  {
   "cell_type": "code",
   "execution_count": 88,
   "id": "fb575dd6",
   "metadata": {},
   "outputs": [
    {
     "data": {
      "text/plain": [
       "[0.19492118120021937,\n",
       " 0.33308355189209443,\n",
       " 0.41004642666869623,\n",
       " 0.44773716191608043,\n",
       " 0.46035484377453295,\n",
       " 0.4601823708206687,\n",
       " 0.4513842375530252,\n",
       " 0.4355155433370594,\n",
       " 0.4142935821427414,\n",
       " 0.38880077236052685,\n",
       " 0.35953580030654697,\n",
       " 0.32989532609945943,\n",
       " 0.2923392778068516,\n",
       " 0.2549300522501264,\n",
       " 0.21520601556659774,\n",
       " 0.16964203973267417,\n",
       " 0.12063794334682218,\n",
       " 0.07470188232975263,\n",
       " 0.03766345231483819,\n",
       " 0.006787330316742081,\n",
       " 0.0]"
      ]
     },
     "execution_count": 88,
     "metadata": {},
     "output_type": "execute_result"
    }
   ],
   "source": [
    "f1_scores"
   ]
  },
  {
   "cell_type": "code",
   "execution_count": 90,
   "id": "04e03601",
   "metadata": {},
   "outputs": [],
   "source": [
    "y_pred_best_f1 = binary_prediction(predict, threshold=0.2)"
   ]
  },
  {
   "cell_type": "code",
   "execution_count": 92,
   "id": "62edfb6a",
   "metadata": {},
   "outputs": [
    {
     "name": "stdout",
     "output_type": "stream",
     "text": [
      "              precision    recall  f1-score   support\n",
      "\n",
      "      Action       0.31      0.56      0.40      1044\n",
      "   Adventure       0.29      0.24      0.26       821\n",
      "   Animation       0.68      0.32      0.44       306\n",
      "   Biography       0.09      0.01      0.02       411\n",
      "      Comedy       0.46      0.78      0.58      2611\n",
      "       Crime       0.27      0.37      0.31      1163\n",
      " Documentary       0.15      0.12      0.13       629\n",
      "       Drama       0.56      0.96      0.71      4142\n",
      "      Family       0.48      0.38      0.43       518\n",
      "     Fantasy       0.27      0.13      0.18       585\n",
      "   Film-Noir       0.00      0.00      0.00       102\n",
      "     History       0.00      0.00      0.00       345\n",
      "      Horror       0.39      0.45      0.42       825\n",
      "       Music       0.08      0.01      0.02       311\n",
      "     Musical       0.21      0.14      0.17       253\n",
      "     Mystery       0.14      0.11      0.13       617\n",
      "     Romance       0.32      0.57      0.41      1590\n",
      "      Sci-Fi       0.32      0.26      0.29       586\n",
      "       Short       0.09      0.05      0.06       142\n",
      "       Sport       0.00      0.00      0.00       191\n",
      "    Thriller       0.34      0.64      0.45      1567\n",
      "         War       0.21      0.05      0.08       401\n",
      "     Western       0.33      0.02      0.04       210\n",
      "\n",
      "   micro avg       0.41      0.53      0.46     19370\n",
      "   macro avg       0.26      0.27      0.24     19370\n",
      "weighted avg       0.36      0.53      0.41     19370\n",
      " samples avg       0.44      0.57      0.46     19370\n",
      "\n"
     ]
    }
   ],
   "source": [
    "print(classification_report(y_test_bin, y_pred_best_f1, target_names=mlb.classes_, zero_division=0))"
   ]
  },
  {
   "cell_type": "markdown",
   "id": "28ee1905",
   "metadata": {},
   "source": [
    "<h4>Extra Plots and Figures"
   ]
  },
  {
   "cell_type": "code",
   "execution_count": null,
   "id": "a5423fc6",
   "metadata": {},
   "outputs": [],
   "source": [
    "import matplotlib.pyplot as plt\n",
    "%matplotlib inline\n",
    "import matplotlib.image as mpimg"
   ]
  },
  {
   "cell_type": "code",
   "execution_count": null,
   "id": "4fdbb2ac",
   "metadata": {},
   "outputs": [],
   "source": [
    "# choose some movies posters\n",
    "movie_posters = ['mmimdb/dataset/'+test[10]+'.jpeg', 'mmimdb/dataset/'+test[20]+'.jpeg', 'mmimdb/dataset/'+test[30]+'.jpeg', 'mmimdb/dataset/'+test[40]+'.jpeg']\n",
    "movie_ims = [keras.preprocessing.image.load_img(i, target_size=(224, 224, 3)) for i in movie_posters]\n",
    "movie_ims = np.array(list(map(np.array, ims)))\n",
    "movie_ims_prep = keras.applications.mobilenet.preprocess_input(movie_ims.copy())"
   ]
  },
  {
   "cell_type": "code",
   "execution_count": null,
   "id": "539eacfd",
   "metadata": {},
   "outputs": [],
   "source": [
    "df_test.label[[test[10],test[20],test[30],test[40]]]"
   ]
  },
  {
   "cell_type": "code",
   "execution_count": null,
   "id": "31e14c12",
   "metadata": {},
   "outputs": [],
   "source": [
    "preds = movie_poster_model.predict(movie_ims_prep)\n",
    "labs = mlb.classes_\n",
    "fig, ax = plt.subplots(4, 2, figsize=(10,20))\n",
    "for i in range(4):\n",
    "    ax[i, 0].imshow(ims[i]); ax[i, 0].axis(\"off\")\n",
    "    ax[i, 1].barh(labs,preds[i], color=\"k\")\n",
    "fig.tight_layout()"
   ]
  },
  {
   "cell_type": "code",
   "execution_count": null,
   "id": "37be02e3",
   "metadata": {},
   "outputs": [],
   "source": [
    "game_covers = ['games/azura_1.jpg','games/azura_2.jpg','games/calista.jpg','games/gally.jpg','games/velvet.jpg','games/gta.jpeg','games/cod.jpg']\n",
    "game_ims = [keras.preprocessing.image.load_img(i, target_size=(224, 224, 3)) for i in game_covers]\n",
    "game_ims = np.array(list(map(np.array, ims)))\n",
    "game_ims_prep = keras.applications.mobilenet.preprocess_input(game_ims.copy())"
   ]
  },
  {
   "cell_type": "code",
   "execution_count": null,
   "id": "20ae0b30",
   "metadata": {},
   "outputs": [],
   "source": [
    "preds = movie_poster_model.predict(game_ims_prep)\n",
    "labs = mlb.classes_\n",
    "fig, ax = plt.subplots(7, 2, figsize=(10,20))\n",
    "for i in range(7):\n",
    "    ax[i, 0].imshow(ims[i]); ax[i, 0].axis(\"off\")\n",
    "    ax[i, 1].barh(labs,preds[i], color=\"k\")\n",
    "fig.tight_layout()"
   ]
  }
 ],
 "metadata": {
  "kernelspec": {
   "display_name": "Python 3 (ipykernel)",
   "language": "python",
   "name": "python3"
  },
  "language_info": {
   "codemirror_mode": {
    "name": "ipython",
    "version": 3
   },
   "file_extension": ".py",
   "mimetype": "text/x-python",
   "name": "python",
   "nbconvert_exporter": "python",
   "pygments_lexer": "ipython3",
   "version": "3.9.7"
  }
 },
 "nbformat": 4,
 "nbformat_minor": 5
}
